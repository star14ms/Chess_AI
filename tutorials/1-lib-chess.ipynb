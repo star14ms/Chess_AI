{
 "cells": [
  {
   "cell_type": "code",
   "execution_count": null,
   "metadata": {},
   "outputs": [],
   "source": [
    "from chess import Board\n",
    "\n",
    "board = Board()\n",
    "board"
   ]
  },
  {
   "cell_type": "code",
   "execution_count": null,
   "metadata": {},
   "outputs": [],
   "source": [
    "from chess import Move\n",
    "\n",
    "Nf3 = Move.from_uci(\"g1f3\")\n",
    "board.push(Nf3)  # Make the move\n",
    "board"
   ]
  },
  {
   "cell_type": "code",
   "execution_count": null,
   "metadata": {},
   "outputs": [],
   "source": [
    "board.pop()\n",
    "board"
   ]
  },
  {
   "cell_type": "code",
   "execution_count": null,
   "metadata": {},
   "outputs": [],
   "source": [
    "print(board)"
   ]
  },
  {
   "cell_type": "code",
   "execution_count": null,
   "metadata": {},
   "outputs": [],
   "source": [
    "print(board.is_stalemate())\n",
    "print(board.is_insufficient_material())\n",
    "print(board.outcome())"
   ]
  },
  {
   "cell_type": "code",
   "execution_count": null,
   "metadata": {},
   "outputs": [],
   "source": [
    "print(board.can_claim_threefold_repetition())\n",
    "print(board.halfmove_clock)\n",
    "print(board.can_claim_fifty_moves())\n",
    "print(board.can_claim_draw())"
   ]
  },
  {
   "cell_type": "code",
   "execution_count": null,
   "metadata": {},
   "outputs": [],
   "source": [
    "print(board.is_fivefold_repetition())\n",
    "print(board.is_seventyfive_moves())"
   ]
  },
  {
   "cell_type": "code",
   "execution_count": null,
   "metadata": {},
   "outputs": [],
   "source": [
    "import chess\n",
    "\n",
    "print(board.is_check())\n",
    "print(board.is_attacked_by(chess.WHITE, chess.E8))\n",
    "\n",
    "attackers = board.attackers(chess.WHITE, chess.F3)\n",
    "print(attackers)\n",
    "\n",
    "attackers"
   ]
  },
  {
   "cell_type": "code",
   "execution_count": null,
   "metadata": {},
   "outputs": [],
   "source": [
    "board = chess.Board()\n",
    "print(board.san(chess.Move(chess.E2, chess.E4)))\n",
    "print(board.parse_san('Nf3'))\n",
    "print(board.variation_san([chess.Move.from_uci(m) for m in [\"e2e4\", \"e7e5\", \"g1f3\"]]))"
   ]
  },
  {
   "cell_type": "code",
   "execution_count": null,
   "metadata": {},
   "outputs": [],
   "source": [
    "print(board.fen())\n",
    "print(board.shredder_fen())\n",
    "board = chess.Board(\"8/8/8/2k5/4K3/8/8/8 w - - 4 45\")\n",
    "print(board.piece_at(chess.C5))\n",
    "\n",
    "board.piece_at(chess.C5)"
   ]
  },
  {
   "cell_type": "code",
   "execution_count": null,
   "metadata": {},
   "outputs": [],
   "source": [
    "board = chess.Board()\n",
    "board.epd(bm=board.parse_uci(\"d2d4\"))\n",
    "ops = board.set_epd(\"1k1r4/pp1b1R2/3q2pp/4p3/2B5/4Q3/PPP2B2/2K5 b - - bm Qd1+; id \\\"BK.01\\\";\")\n",
    "ops == {'bm': [chess.Move.from_uci('d6d1')], 'id': 'BK.01'}"
   ]
  },
  {
   "cell_type": "code",
   "execution_count": null,
   "metadata": {},
   "outputs": [],
   "source": [
    "import chess.polyglot\n",
    "\n",
    "book = chess.polyglot.open_reader(\"data/polyglot/performance.bin\")\n",
    "\n",
    "board = chess.Board()\n",
    "main_entry = book.find(board)\n",
    "print(main_entry.move)\n",
    "print(main_entry.weight)\n",
    "\n",
    "book.close()"
   ]
  },
  {
   "cell_type": "code",
   "execution_count": null,
   "metadata": {},
   "outputs": [],
   "source": [
    "import chess.pgn\n",
    "\n",
    "with open(\"data/pgn/molinari-bordais-1979.pgn\") as pgn:\n",
    "    first_game = chess.pgn.read_game(pgn)\n",
    "\n",
    "print(first_game.headers[\"White\"])\n",
    "print(first_game.headers[\"Black\"])\n",
    "\n",
    "first_game.mainline()  \n",
    "\n",
    "first_game.headers[\"Result\"]"
   ]
  },
  {
   "cell_type": "code",
   "execution_count": null,
   "metadata": {},
   "outputs": [],
   "source": [
    "import chess.syzygy\n",
    "\n",
    "tablebase = chess.syzygy.open_tablebase(\"data/syzygy/regular\")\n",
    "\n",
    "# Black to move is losing in 53 half moves (distance to zero) in this\n",
    "# KNBvK endgame.\n",
    "board = chess.Board(\"8/2K5/4B3/3N4/8/8/4k3/8 b - - 0 1\")\n",
    "tablebase.probe_dtz(board)\n",
    "\n",
    "tablebase.close()"
   ]
  },
  {
   "cell_type": "code",
   "execution_count": null,
   "metadata": {},
   "outputs": [],
   "source": [
    "import chess.engine\n",
    "\n",
    "engine = chess.engine.SimpleEngine.popen_uci(\"stockfish\")\n",
    "\n",
    "board = chess.Board(\"1k1r4/pp1b1R2/3q2pp/4p3/2B5/4Q3/PPP2B2/2K5 b - - 0 1\")\n",
    "limit = chess.engine.Limit(time=2.0)\n",
    "engine.play(board, limit)  \n",
    "\n",
    "engine.quit()"
   ]
  }
 ],
 "metadata": {
  "kernelspec": {
   "display_name": "Python 3",
   "language": "python",
   "name": "python3"
  },
  "language_info": {
   "codemirror_mode": {
    "name": "ipython",
    "version": 3
   },
   "file_extension": ".py",
   "mimetype": "text/x-python",
   "name": "python",
   "nbconvert_exporter": "python",
   "pygments_lexer": "ipython3",
   "version": "3.11.12"
  }
 },
 "nbformat": 4,
 "nbformat_minor": 2
}
