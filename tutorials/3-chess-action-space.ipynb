{
 "cells": [
  {
   "cell_type": "markdown",
   "metadata": {},
   "source": [
    "### Add Path to Import Libraires from Parent Directory"
   ]
  },
  {
   "cell_type": "code",
   "execution_count": 1,
   "metadata": {},
   "outputs": [],
   "source": [
    "import sys\n",
    "import os\n",
    "sys.path.append(os.path.abspath('..'))\n",
    "\n",
    "import chess"
   ]
  },
  {
   "cell_type": "markdown",
   "metadata": {},
   "source": [
    "# Possible Moves"
   ]
  },
  {
   "cell_type": "markdown",
   "metadata": {},
   "source": [
    "### AlphaZero’s Specific Choice"
   ]
  },
  {
   "cell_type": "markdown",
   "metadata": {},
   "source": [
    "In the AlphaZero paper (“Mastering Chess and Shogi by Self-Play with a General Reinforcement Learning Algorithm,” 2017), the action space is described as:\n",
    "\n",
    "- Moves are represented as 73 planes (for move types) × 64 squares (for source positions).\n",
    "- The 73 planes break down as:\n",
    "    - 56 queen-move planes: 8 directions × 7 distances.\n",
    "    - 8 knight-move planes: 8 possible knight moves.\n",
    "    - 9 promotion planes: 3 move types (straight, capture left, capture right) × 3 underpromotions (rook, bishop, knight; queen promotion is implicit or --handled separately).\n",
    "- Total actions:\n",
    "```64 squares × 73 move types = 4672```\n",
    "\n",
    "This encoding ensures every legal move (including promotions, castling, and en passant) can be mapped to one of the 4672 indices, with illegal or redundant indices masked during training and inference."
   ]
  },
  {
   "cell_type": "markdown",
   "metadata": {},
   "source": [
    "### Each players have 16 pieces on the board\n",
    "> Rook -  ```2 pieces x 4 directions x 7 distances = 2 x 28 actions```\\\n",
    "> Knight - ```2 pieces x 8 directions = 2 x 8 actions```\\\n",
    "> Bishop - ```2 pieces x 4 directions x 7 distances = 2 x 28 actions```\\\n",
    "> Queen - ```1 piece x 8 directions x 7 distances = 1 x 56 actions```\\\n",
    "> King - ```1 piece x (8 directions + 2 Types of Castlings) = 1 x 10 actions```\\\n",
    "> Pawn - ```8 pieces x (2 forward moves + 2 capture moves + 2 En Passant + 12 promotion moves (Fwd/CapL/CapR for Q, N, B, R) + Queen's 56 actions + Knight's 8 actions) = 8 x 82 actions```\\\n",
    "(Having potential to gain Rook, Bishop, Queen or Knight's move)\n",
    "\n",
    "> Total possible actions per player: ```2x28 + 2x8 + 2x28 + 1x56 + 1x10 + 8x82 = 56 + 16 + 56 + 56 + 10 + 656 = 850 actions```\n",
    "\n",
    "- However, this is the theoretical maximum. In practice, many moves are blocked by other pieces or would put the king in check."
   ]
  },
  {
   "cell_type": "code",
   "execution_count": null,
   "metadata": {},
   "outputs": [],
   "source": [
    "from chess import *\n",
    "from IPython.display import display\n",
    "\n",
    "# ROOK, BISHOP, KNIGHT, QUEEN, KING, PAWN\n",
    "piece = Piece(BISHOP, WHITE)\n",
    "\n",
    "board = Board()\n",
    "board.clear()\n",
    "board.set_piece_at(D4, piece)\n",
    "\n",
    "sqaureset = SquareSet(map(lambda x: x.to_square, board.legal_moves))\n",
    "display(board, sqaureset)"
   ]
  },
  {
   "cell_type": "markdown",
   "metadata": {},
   "source": [
    "### Visualize All Actions on the Board with Local Action ID"
   ]
  },
  {
   "cell_type": "code",
   "execution_count": 3,
   "metadata": {},
   "outputs": [],
   "source": [
    "import chess\n",
    "from typing import List, Dict, Optional\n",
    "from collections import defaultdict\n",
    "\n",
    "from utils.analyze import (\n",
    "    uci_to_relative_rook_action_id,\n",
    "    uci_to_relative_knight_action_id,\n",
    "    uci_to_relative_bishop_action_id,\n",
    "    uci_to_relative_queen_action_id,\n",
    "    uci_to_relative_king_action_id,\n",
    "    uci_to_relative_pawn_action_id,\n",
    ")\n",
    "from utils.visualize import draw_numbers_on_board, display_svgs_horizontally\n",
    "\n",
    "\n",
    "def get_relative_action_id_for_piece(uci: str, piece_type: chess.PieceType, color: chess.Color) -> Optional[int]:\n",
    "    \"\"\"\n",
    "    Helper function to call the correct uci_to_relative_*_action_id function.\n",
    "    Returns the RELATIVE action ID (e.g., 1-28 for Rook, 1-18 for Pawn).\n",
    "    \"\"\"\n",
    "    if piece_type == chess.ROOK:\n",
    "        return uci_to_relative_rook_action_id(uci)\n",
    "    elif piece_type == chess.KNIGHT:\n",
    "        return uci_to_relative_knight_action_id(uci)\n",
    "    elif piece_type == chess.BISHOP:\n",
    "        return uci_to_relative_bishop_action_id(uci)\n",
    "    elif piece_type == chess.QUEEN:\n",
    "        return uci_to_relative_queen_action_id(uci)\n",
    "    elif piece_type == chess.KING:\n",
    "        # Castling (IDs 9, 10) and standard moves (1-8) are handled within this func\n",
    "        return uci_to_relative_king_action_id(uci)\n",
    "    elif piece_type == chess.PAWN:\n",
    "        # Pass the color required by the updated pawn function\n",
    "        return uci_to_relative_pawn_action_id(uci, color)\n",
    "    else:\n",
    "        print(f\"Warning: Unknown piece type {piece_type} in get_relative_action_id_for_piece\")\n",
    "        return None\n",
    "\n",
    "def get_relative_action_ids_for_target_type(\n",
    "    board: chess.Board,\n",
    "    target_piece_type: chess.PieceType\n",
    ") -> Dict[chess.Square, List[str]]:\n",
    "    \"\"\"\n",
    "    Generates a map from destination squares to a list of RELATIVE action ID strings\n",
    "    for legal moves of a specific piece type on the board.\n",
    "\n",
    "    Args:\n",
    "        board: The current chess.Board state.\n",
    "        target_piece_type: The chess.PieceType to filter moves for (e.g., chess.PAWN).\n",
    "\n",
    "    Returns:\n",
    "        A dictionary mapping the destination square (chess.Square) of each valid move\n",
    "        by the target piece type to a list of its calculated relative action ID strings\n",
    "        (e.g., ['1'] for pawn e2e4, ['1', '8'] for knight g1 moves).\n",
    "    \"\"\"\n",
    "    dest_square_to_action_ids: Dict[chess.Square, List[int]] = defaultdict(list)\n",
    "    final_map: Dict[chess.Square, List[str]] = {}\n",
    "    # No instance map needed for relative IDs based purely on move pattern\n",
    "\n",
    "    for move in board.legal_moves:\n",
    "        # Determine the type and color of the piece being moved\n",
    "        piece_at_from_sq = board.piece_at(move.from_square)\n",
    "\n",
    "        if piece_at_from_sq and piece_at_from_sq.piece_type == target_piece_type:\n",
    "            # Get the RELATIVE action ID using the helper function\n",
    "            # Pass the color needed for pawn relative ID calculation\n",
    "            relative_id = get_relative_action_id_for_piece(\n",
    "                move.uci(),\n",
    "                piece_at_from_sq.piece_type,\n",
    "                piece_at_from_sq.color\n",
    "            )\n",
    "\n",
    "            if relative_id is not None:\n",
    "                # Append the integer relative action ID to the list for the destination square\n",
    "                dest_square_to_action_ids[move.to_square].append(relative_id)\n",
    "            # else: (Optional: Add warning if relative_id is None for a legal move)\n",
    "                 # print(f\"Warning: Could not get RELATIVE action ID for legal move {move.uci()} \"\n",
    "                 #       f\"for target type {target_piece_type}\")\n",
    "\n",
    "\n",
    "    # Convert lists of integers to lists of strings\n",
    "    for square, id_list in dest_square_to_action_ids.items():\n",
    "        final_map[square] = [str(action_id) for action_id in sorted(id_list)]\n",
    "\n",
    "    return final_map"
   ]
  },
  {
   "cell_type": "code",
   "execution_count": null,
   "metadata": {},
   "outputs": [],
   "source": [
    "import chess\n",
    "board = chess.Board()\n",
    "\n",
    "board.clear()\n",
    "board.set_piece_at(chess.A1, chess.Piece(chess.QUEEN, chess.WHITE))\n",
    "svg1 = draw_numbers_on_board(get_relative_action_ids_for_target_type(board, chess.QUEEN), board, board_size=300, font_size=32)\n",
    "\n",
    "board.clear()\n",
    "board.set_piece_at(chess.D8, chess.Piece(chess.QUEEN, chess.WHITE))\n",
    "svg2 = draw_numbers_on_board(get_relative_action_ids_for_target_type(board, chess.QUEEN), board, board_size=300, font_size=32)\n",
    "\n",
    "board.clear()\n",
    "board.set_piece_at(chess.D4, chess.Piece(chess.QUEEN, chess.WHITE))\n",
    "svg3 = draw_numbers_on_board(get_relative_action_ids_for_target_type(board, chess.QUEEN), board, board_size=300, font_size=32)\n",
    "\n",
    "display_svgs_horizontally([svg1, svg2, svg3])"
   ]
  },
  {
   "cell_type": "code",
   "execution_count": null,
   "metadata": {},
   "outputs": [],
   "source": [
    "board = chess.Board()\n",
    "\n",
    "board.clear()\n",
    "board.set_piece_at(chess.G1, chess.Piece(chess.KNIGHT, chess.WHITE))\n",
    "svg1 = draw_numbers_on_board(get_relative_action_ids_for_target_type(board, chess.KNIGHT), board, board_size=300, font_size=32)\n",
    "\n",
    "board.clear()\n",
    "board.set_piece_at(chess.B8, chess.Piece(chess.KNIGHT, chess.WHITE))\n",
    "svg2 = draw_numbers_on_board(get_relative_action_ids_for_target_type(board, chess.KNIGHT), board, board_size=300, font_size=32)\n",
    "\n",
    "board.clear()\n",
    "board.set_piece_at(chess.D4, chess.Piece(chess.KNIGHT, chess.WHITE))\n",
    "svg3 = draw_numbers_on_board(get_relative_action_ids_for_target_type(board, chess.KNIGHT), board, board_size=300, font_size=32)\n",
    "\n",
    "display_svgs_horizontally([svg1, svg2, svg3])"
   ]
  },
  {
   "cell_type": "code",
   "execution_count": null,
   "metadata": {},
   "outputs": [],
   "source": [
    "board = chess.Board()\n",
    "\n",
    "board.clear()\n",
    "board.set_piece_at(chess.C7, chess.Piece(chess.PAWN, chess.WHITE))\n",
    "board.set_piece_at(chess.B8, chess.Piece(chess.PAWN, chess.BLACK))\n",
    "board.set_piece_at(chess.D8, chess.Piece(chess.PAWN, chess.BLACK))\n",
    "svg1 = draw_numbers_on_board(get_relative_action_ids_for_target_type(board, chess.PAWN), board, board_size=300, font_size=32)\n",
    "\n",
    "board.clear()\n",
    "board.set_piece_at(chess.C6, chess.Piece(chess.PAWN, chess.WHITE))\n",
    "board.set_piece_at(chess.B7, chess.Piece(chess.PAWN, chess.BLACK))\n",
    "svg2 = draw_numbers_on_board(get_relative_action_ids_for_target_type(board, chess.PAWN), board, board_size=300, font_size=32)\n",
    "\n",
    "board.clear()\n",
    "board.set_piece_at(chess.C2, chess.Piece(chess.PAWN, chess.WHITE))\n",
    "board.set_piece_at(chess.D3, chess.Piece(chess.PAWN, chess.BLACK))\n",
    "svg3 = draw_numbers_on_board(get_relative_action_ids_for_target_type(board, chess.PAWN), board, board_size=300, font_size=32)\n",
    "\n",
    "display_svgs_horizontally([svg1, svg2, svg3])"
   ]
  },
  {
   "cell_type": "markdown",
   "metadata": {},
   "source": [
    "### Test"
   ]
  },
  {
   "cell_type": "code",
   "execution_count": null,
   "metadata": {},
   "outputs": [],
   "source": [
    "import chess_gym\n",
    "import gymnasium as gym\n",
    "from utils.visualize import draw_possible_actions_on_board, display_svgs_horizontally\n",
    "\n",
    "env = gym.make(\"Chess-v0\")\n",
    "env.reset()\n",
    "board = env.action_space.board\n",
    "\n",
    "# check all action ids\n",
    "for i in range(1, 1700):\n",
    "    move = board.action_id_to_move(i)\n",
    "    if move:\n",
    "        print(f\"{i}: {move.uci()}\")\n",
    "\n",
    "svg1 = draw_possible_actions_on_board(board)\n",
    "svg2 = draw_possible_actions_on_board(board, draw_action_ids=True)\n",
    "display_svgs_horizontally([svg1, svg2])\n",
    "env.step(env.action_space.sample(return_id=True))\n",
    "svg1 = draw_possible_actions_on_board(board)\n",
    "svg2 = draw_possible_actions_on_board(board, draw_action_ids=True)\n",
    "display_svgs_horizontally([svg1, svg2])\n"
   ]
  },
  {
   "cell_type": "code",
   "execution_count": null,
   "metadata": {},
   "outputs": [],
   "source": [
    "from chess import BLACK, WHITE\n",
    "from utils.visualize import draw_possible_actions_on_board, display_svgs_horizontally\n",
    "\n",
    "options = {\n",
    "    'fen': \"7k/8/8/8/8/8/p7/7K w KQkq - 0 1\",\n",
    "    # 'fen': \"r3k2r/8/8/8/8/8/7p/4K3 w KQkq - 0 1\",\n",
    "    'turn': BLACK,\n",
    "}\n",
    "env.reset(options=options)\n",
    "board = env.action_space.board\n",
    "svg_possible_a1s = draw_possible_actions_on_board(board)\n",
    "\n",
    "action = env.action_space.sample()\n",
    "env.step(action)\n",
    "svg_a1 = board._repr_svg_()\n",
    "svg_possible_a2s = draw_possible_actions_on_board(board)\n",
    "\n",
    "display_svgs_horizontally([svg_possible_a1s, svg_a1, svg_possible_a2s])\n",
    "\n",
    "action = env.action_space.sample()\n",
    "env.step(action)\n",
    "svg_a2 = board._repr_svg_()\n",
    "svg_possible_a3s = draw_possible_actions_on_board(board)\n",
    "\n",
    "display_svgs_horizontally([svg_a1, svg_a2, svg_possible_a3s])"
   ]
  }
 ],
 "metadata": {
  "kernelspec": {
   "display_name": "Python 3",
   "language": "python",
   "name": "python3"
  },
  "language_info": {
   "codemirror_mode": {
    "name": "ipython",
    "version": 3
   },
   "file_extension": ".py",
   "mimetype": "text/x-python",
   "name": "python",
   "nbconvert_exporter": "python",
   "pygments_lexer": "ipython3",
   "version": "3.11.12"
  }
 },
 "nbformat": 4,
 "nbformat_minor": 2
}
