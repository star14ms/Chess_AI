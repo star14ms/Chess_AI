{
 "cells": [
  {
   "cell_type": "markdown",
   "metadata": {},
   "source": [
    "### https://github.com/ryanrudes/chess-gym"
   ]
  },
  {
   "cell_type": "code",
   "execution_count": null,
   "metadata": {},
   "outputs": [],
   "source": [
    "import sys\n",
    "import os\n",
    "sys.path.append(os.path.abspath('..'))\n",
    "\n",
    "import gymnasium as gym\n",
    "import chess_gym\n",
    "\n",
    "env = gym.make(\"Chess-v0\")\n",
    "env.reset()\n",
    "board = env.action_space.board\n",
    "\n",
    "display(board)"
   ]
  },
  {
   "cell_type": "markdown",
   "metadata": {},
   "source": [
    "### Simulation with Human-Made Policy"
   ]
  },
  {
   "cell_type": "code",
   "execution_count": null,
   "metadata": {},
   "outputs": [],
   "source": [
    "import gymnasium as gym\n",
    "from utils.policy_human import sample_action\n",
    "from utils.visualize import board_to_svg, display_svgs_horizontally\n",
    "from IPython.display import SVG\n",
    "\n",
    "env = gym.make(\"Chess-v0\", render_mode='rgb_array', show_possible_actions=False)\n",
    "env.reset()\n",
    "board = env.action_space.board\n",
    "\n",
    "terminated = False\n",
    "truncated = False\n",
    "last_svg_str = None # To store the SVG from the previous step\n",
    "step_count = 0\n",
    "\n",
    "# Display initial board state\n",
    "initial_svg = board_to_svg(board, size=250)\n",
    "display(SVG(initial_svg))\n",
    "last_svg_str = None # Store the first SVG\n",
    "last_log_str = '' # Store the first log\n",
    "\n",
    "print(\"Starting Game...\")\n",
    "\n",
    "while not terminated and not truncated:\n",
    "  action, policy_id, policy_title = sample_action(board, return_id=True, return_info=True) # Get action and policy info\n",
    "  \n",
    "  last_log_str += f\"Step {step_count + 1}: Policy {policy_title} -> Action {action} ({board.san(action)})\\n\"\n",
    "\n",
    "  observation, reward, terminated, truncated, info = env.step(action)\n",
    "  step_count += 1\n",
    "\n",
    "  current_svg_str = board_to_svg(board, size=250)\n",
    "\n",
    "  # Display pairs of boards\n",
    "  if last_svg_str: # If we have a stored SVG from the previous step\n",
    "      print(\"Displaying boards from previous and current step:\")\n",
    "      display_svgs_horizontally([last_svg_str, current_svg_str])\n",
    "      print(last_log_str)\n",
    "      last_svg_str = None # Clear the stored SVG\n",
    "      last_log_str = ''\n",
    "  else: # If it's an odd step number (1st, 3rd, etc.), store the current SVG\n",
    "      last_svg_str = current_svg_str\n",
    "else:\n",
    "  if last_svg_str:\n",
    "    print(\"Displaying final board state:\")\n",
    "    display(SVG(last_svg_str))\n",
    "    print(last_log_str)\n",
    "\n",
    "# --- After the loop ---\n",
    "# Print game result\n",
    "if terminated or truncated: # Check why the loop ended\n",
    "    if reward == 1:\n",
    "      print(\"White wins!\")\n",
    "    elif reward == -1:\n",
    "      print(\"Black wins!\")\n",
    "    elif board.is_stalemate():\n",
    "        print(\"It's a stalemate!\")\n",
    "    elif board.is_insufficient_material():\n",
    "         print(\"It's a draw due to insufficient material!\")\n",
    "    elif board.can_claim_draw():\n",
    "         print(\"It's a draw by repetition or 50-move rule!\")\n",
    "    elif truncated:\n",
    "         print(\"Game truncated.\")\n",
    "    else:\n",
    "         print(\"Game ended in a draw (other reason).\")\n",
    "\n",
    "env.close()\n"
   ]
  },
  {
   "cell_type": "code",
   "execution_count": null,
   "metadata": {},
   "outputs": [],
   "source": [
    "from utils.visualize import draw_possible_actions_on_board\n",
    "\n",
    "env.reset()\n",
    "board = env.action_space.board\n",
    "print(board.get_legal_moves_with_action_ids())\n",
    "display(draw_possible_actions_on_board(board))\n",
    "\n",
    "print('-'*100)\n",
    "\n",
    "# set two white queens on the board\n",
    "env.reset(options={\n",
    "    'fen': \"k7/8/8/8/6QQ/P7/PPPPPPPP/K7\",\n",
    "    # 'fen': \"k7/8/8/8/8/8/PPPPPPPP/K7\",\n",
    "})\n",
    "board = env.action_space.board\n",
    "display(board)\n",
    "print(board.get_legal_moves_with_action_ids())"
   ]
  },
  {
   "cell_type": "code",
   "execution_count": null,
   "metadata": {},
   "outputs": [],
   "source": [
    "from chess import square_name, BLACK\n",
    "from IPython.display import display\n",
    "\n",
    "env = gym.make(\"Chess-v0\")\n",
    "options = {\n",
    "    'fen': \"k7/8/8/8/8/8/7p/K7 w KQkq - 0 1\",\n",
    "    # 'fen': \"4k2r/8/8/8/8/8/7p/4K3 w KQkq - 0 1\",\n",
    "    'turn': BLACK\n",
    "}\n",
    "env.reset(options=options)\n",
    "board = env.action_space.board\n",
    "\n",
    "action = env.action_space.sample()\n",
    "move = env.action_space._action_to_move(action)\n",
    "\n",
    "print(board.legal_moves)\n",
    "print(list(map(lambda move: move.uci(), board.legal_moves)))\n",
    "print(square_name(action[0]), square_name(action[1]))\n",
    "print(board.san(move))\n",
    "\n",
    "display(board)\n",
    "env.step(action)\n",
    "board"
   ]
  },
  {
   "cell_type": "markdown",
   "metadata": {},
   "source": [
    "### https://github.com/genyrosk/gym-chess\n",
    "> Without Chess Library"
   ]
  },
  {
   "cell_type": "code",
   "execution_count": null,
   "metadata": {},
   "outputs": [],
   "source": [
    "# import gymnasium as gym\n",
    "# from gym_chess import ChessEnvV1, ChessEnvV2\n",
    "\n",
    "# env1 = ChessEnvV1()\n",
    "# env2 = ChessEnvV2()\n",
    "\n",
    "# env1 = gym.make('ChessVsSelf-v1')\n",
    "# env2 = gym.make('ChessVsSelf-v2')"
   ]
  },
  {
   "cell_type": "code",
   "execution_count": null,
   "metadata": {},
   "outputs": [],
   "source": [
    "# import random\n",
    "# from gym_chess import ChessEnvV1\n",
    "\n",
    "# env = ChessEnvV1() # or ChessEnvV2\n",
    "\n",
    "# # current state\n",
    "# state = env.state\n",
    "\n",
    "# # select a move and convert it into an action\n",
    "# moves = env.possible_moves\n",
    "# move = random.choice(moves)\n",
    "# # action = env.move_to_actions(move)\n",
    "\n",
    "# # or select an action directly\n",
    "# actions = env.possible_actions\n",
    "# action = random.choice(actions)\n",
    "\n",
    "# # pass it to the env and get the next state\n",
    "# # new_state, reward, done, info = env.step(action)\n",
    "# print(list(map(int, env.possible_actions)))"
   ]
  }
 ],
 "metadata": {
  "kernelspec": {
   "display_name": "Python 3",
   "language": "python",
   "name": "python3"
  },
  "language_info": {
   "codemirror_mode": {
    "name": "ipython",
    "version": 3
   },
   "file_extension": ".py",
   "mimetype": "text/x-python",
   "name": "python",
   "nbconvert_exporter": "python",
   "pygments_lexer": "ipython3",
   "version": "3.11.12"
  }
 },
 "nbformat": 4,
 "nbformat_minor": 2
}
