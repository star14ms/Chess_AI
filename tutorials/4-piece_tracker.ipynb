{
 "cells": [
  {
   "cell_type": "code",
   "execution_count": null,
   "metadata": {},
   "outputs": [],
   "source": [
    "import sys\n",
    "import os\n",
    "sys.path.append(os.path.abspath('..'))\n",
    "\n",
    "import chess_gym\n",
    "import gymnasium as gym\n",
    "\n",
    "env = gym.make(\"Chess-v0\")\n",
    "env.reset()\n",
    "board = env.action_space.board"
   ]
  },
  {
   "cell_type": "markdown",
   "metadata": {},
   "source": [
    "### Get Possible Action IDs with Corresponding Target Tiles."
   ]
  },
  {
   "cell_type": "code",
   "execution_count": null,
   "metadata": {},
   "outputs": [],
   "source": [
    "\n",
    "import chess\n",
    "from typing import Dict\n",
    "from collections import defaultdict\n",
    "from utils.analyze import get_absolute_action_id\n",
    "from chess_gym.chess_custom import FullyTrackedBoard\n",
    "\n",
    "def get_absolute_action_ids_example(board: FullyTrackedBoard) -> Dict:\n",
    "    # ... (similar structure to get_absolute_action_ids_for_target_type) ...\n",
    "    action_map = defaultdict(list)\n",
    "    for move in board.legal_moves:\n",
    "         # Find ORIGINAL piece ID\n",
    "         original_id = board.get_piece_instance_id_at(move.from_square)\n",
    "         if original_id:\n",
    "             color, original_pt, original_instance_idx = original_id\n",
    "             # IMPORTANT: Use PAWN type for base ID if original was pawn\n",
    "             type_for_base_id = chess.PAWN if original_pt == chess.PAWN else original_pt\n",
    "\n",
    "             # Call the absolute action ID function (the merged one)\n",
    "             action_id = get_absolute_action_id(\n",
    "                 move.uci(),\n",
    "                 color,\n",
    "                 type_for_base_id, # Use original type (or PAWN) for base ID calc\n",
    "                 original_instance_idx # Use ORIGINAL instance index\n",
    "             )\n",
    "             if action_id:\n",
    "                 action_map[move.to_square].append(str(action_id))\n",
    "         # else: Piece not tracked (e.g., started from complex FEN) - handle as needed\n",
    "    return dict(action_map)\n",
    "\n",
    "get_absolute_action_ids_example(board)"
   ]
  },
  {
   "cell_type": "markdown",
   "metadata": {},
   "source": [
    "### ```FullyTrackedBoard.piece_tracker```"
   ]
  },
  {
   "cell_type": "code",
   "execution_count": null,
   "metadata": {},
   "outputs": [],
   "source": [
    "import chess\n",
    "from utils.visualize import board_to_svg\n",
    "from rich import print as pprint\n",
    "\n",
    "# Assume 'chess' library and its components (Board, scan_forward, square_name)\n",
    "# are imported and available in the scope where this function is defined.\n",
    "\n",
    "def describe_promoted_pieces(board: chess.Board) -> str:\n",
    "    \"\"\"\n",
    "    Takes a chess.Board object and returns a string describing which squares\n",
    "    currently hold pieces marked as promoted.\n",
    "\n",
    "    Args:\n",
    "        board: The chess.Board object to inspect.\n",
    "\n",
    "    Returns:\n",
    "        A string describing the promoted piece locations, or a message\n",
    "        indicating none are promoted.\n",
    "    \"\"\"\n",
    "    promoted_mask = board.promoted\n",
    "\n",
    "    if not promoted_mask:\n",
    "        return \"No pieces are currently marked as promoted on the board.\"\n",
    "    else:\n",
    "        promoted_squares = []\n",
    "        # chess.scan_forward iterates through the indices of set bits (squares)\n",
    "        for square_index in chess.scan_forward(promoted_mask):\n",
    "            # chess.square_name converts the index (0-63) to algebraic notation ('a1'-'h8')\n",
    "            square_name = chess.square_name(square_index)\n",
    "            promoted_squares.append(square_name)\n",
    "\n",
    "        if promoted_squares:\n",
    "            # Sort for consistent output order\n",
    "            promoted_squares.sort(key=lambda name: chess.parse_square(name))\n",
    "            return f\"Pieces marked as promoted are on squares: {', '.join(promoted_squares)}\"\n",
    "        else:\n",
    "            # This case is unlikely if promoted_mask was non-zero\n",
    "            return \"Promoted mask was non-zero, but no promoted squares were found during iteration.\"\n",
    "\n",
    "# --- Example Usage ---\n",
    "options = {\n",
    "    'fen': \"7k/8/8/8/8/8/ppppp3/7K w KQkq - 0 1\",\n",
    "}\n",
    "env.reset(options=options)\n",
    "board = env.action_space.board\n",
    "\n",
    "\n",
    "display(board_to_svg(board, 250))\n",
    "\n",
    "for i in range(10):\n",
    "    env.step(env.action_space.sample())\n",
    "    if board.turn == chess.BLACK:\n",
    "        continue\n",
    "    svg = board._repr_svg_()\n",
    "    display(board_to_svg(board, 250))\n",
    "    print(describe_promoted_pieces(board))\n",
    "    pprint(board.piece_tracker)\n"
   ]
  },
  {
   "cell_type": "markdown",
   "metadata": {},
   "source": [
    "### ```FullyTrackedBoard.is_theoretically_possible_state```"
   ]
  },
  {
   "cell_type": "code",
   "execution_count": null,
   "metadata": {},
   "outputs": [],
   "source": [
    "from utils.visualize import draw_possible_actions_on_board\n",
    "\n",
    "env.reset()\n",
    "board = env.action_space.board\n",
    "print(board.legal_actions)\n",
    "display(draw_possible_actions_on_board(board))\n",
    "\n",
    "print('-'*100)\n",
    "\n",
    "# set two white queens on the board\n",
    "env.reset(options={\n",
    "    'fen': \"k7/8/8/8/6QQ/P7/PPPPPPPP/K7\",\n",
    "    # 'fen': \"k7/8/8/8/8/8/PPPPPPPP/K7\",\n",
    "})\n",
    "board = env.action_space.board\n",
    "print(board.legal_actions)\n",
    "display(draw_possible_actions_on_board(board))"
   ]
  }
 ],
 "metadata": {
  "kernelspec": {
   "display_name": "Python 3",
   "language": "python",
   "name": "python3"
  },
  "language_info": {
   "codemirror_mode": {
    "name": "ipython",
    "version": 3
   },
   "file_extension": ".py",
   "mimetype": "text/x-python",
   "name": "python",
   "nbconvert_exporter": "python",
   "pygments_lexer": "ipython3",
   "version": "3.11.12"
  }
 },
 "nbformat": 4,
 "nbformat_minor": 2
}
