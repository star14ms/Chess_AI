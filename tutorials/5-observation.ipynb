{
 "cells": [
  {
   "cell_type": "code",
   "execution_count": null,
   "metadata": {},
   "outputs": [],
   "source": [
    "import sys\n",
    "import os\n",
    "sys.path.append(os.path.abspath('..'))\n",
    "\n",
    "import gymnasium as gym\n",
    "import chess_gym\n",
    "\n",
    "env = gym.make(\"Chess-v0\")\n",
    "env.reset()\n",
    "board = env.action_space.board\n",
    "\n",
    "display(board)"
   ]
  },
  {
   "cell_type": "code",
   "execution_count": 2,
   "metadata": {},
   "outputs": [],
   "source": [
    "from typing import Callable, Tuple\n",
    "import chess\n",
    "from chess_gym.envs.chess_env import MoveSpace\n",
    "\n",
    "def run_episode(env, policy: Callable[[MoveSpace, bool], Tuple[chess.Move, int, str]], max_steps: int = 100):\n",
    "    env.reset()\n",
    "    terminated = False\n",
    "    truncated = False\n",
    "    episode = []\n",
    "    time_step = 1\n",
    "\n",
    "    while not terminated and not truncated and time_step <= max_steps:\n",
    "        action = policy(env.action_space, return_id=True)\n",
    "        observation, reward, terminated, truncated, _ = env.step(action)\n",
    "        episode.append((observation, action, reward))\n",
    "        time_step += 1\n",
    "\n",
    "    return episode\n"
   ]
  },
  {
   "cell_type": "code",
   "execution_count": null,
   "metadata": {},
   "outputs": [],
   "source": [
    "import gymnasium as gym\n",
    "from utils.policy_human import sample_action\n",
    "\n",
    "env = gym.make(\"Chess-v0\", render_mode='rgb_array', show_possible_actions=False)\n",
    "\n",
    "episode = run_episode(env, policy=sample_action, max_steps=10)\n",
    "env.close()\n",
    "\n",
    "print('Reward:', episode[-1][2])"
   ]
  },
  {
   "cell_type": "code",
   "execution_count": null,
   "metadata": {},
   "outputs": [],
   "source": [
    "print('Length of episode:', len(episode))\n",
    "\n",
    "observation, action, reward = episode[0]\n",
    "print('observation.shape:', observation.shape)\n",
    "print('action:', action)\n",
    "print('reward:', reward)\n",
    "\n",
    "print('Empty square:', observation[:, 4, 0])"
   ]
  },
  {
   "cell_type": "code",
   "execution_count": null,
   "metadata": {},
   "outputs": [],
   "source": [
    "from utils.analyze import interpret_tile\n",
    "\n",
    "# Example Usage:\n",
    "# Assuming `observation` is the 13x8x8 numpy array from your environment\n",
    "\n",
    "# # Method 1: Pass the tile array directly\n",
    "# tile_a1 = observation[:, 0, 0] # Assuming rank 0, file 0 corresponds to A1\n",
    "# print(interpret_tile(tile_a1))\n",
    "\n",
    "# # Method 2: Pass the string notation and the full observation array\n",
    "# print(\"h8:\", interpret_tile(\"h8\", observation_array=observation))\n",
    "# print(\"e2:\", interpret_tile(\"e2\", observation_array=observation))\n",
    "# print(\"d1:\", interpret_tile(\"d1\", observation_array=observation))\n",
    "# print(\"e4:\", interpret_tile(\"c4\", observation_array=observation))\n",
    "\n",
    "# interprete all tiles in the board\n",
    "for rank in range(8):\n",
    "    for file in range(8):\n",
    "        tile = observation[:, rank, file]\n",
    "        print(f\"{chess.square_name(rank * 8 + file)}: {interpret_tile(tile)}\")\n"
   ]
  }
 ],
 "metadata": {
  "kernelspec": {
   "display_name": "Python 3",
   "language": "python",
   "name": "python3"
  },
  "language_info": {
   "codemirror_mode": {
    "name": "ipython",
    "version": 3
   },
   "file_extension": ".py",
   "mimetype": "text/x-python",
   "name": "python",
   "nbconvert_exporter": "python",
   "pygments_lexer": "ipython3",
   "version": "3.11.12"
  }
 },
 "nbformat": 4,
 "nbformat_minor": 2
}
